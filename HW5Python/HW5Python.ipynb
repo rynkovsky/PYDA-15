{
 "cells": [
  {
   "cell_type": "markdown",
   "metadata": {},
   "source": [
    "# Home Work 5\n"
   ]
  },
  {
   "cell_type": "markdown",
   "metadata": {},
   "source": [
    "# 1. Переведите содержимое файла purchase_log.txt в словарь purchases вида: {‘1840e0b9d4’: ‘Продукты’, …}\n"
   ]
  },
  {
   "cell_type": "code",
   "execution_count": 1,
   "metadata": {},
   "outputs": [],
   "source": [
    "import json\n",
    "with open('E:\\\\DS-22\\\\PYDA-15\\\\HW5Python\\\\purchase_log.txt', encoding='utf-8') as f:\n",
    "    purchase = {}\n",
    "    for line in f:\n",
    "        line = line.strip()\n",
    "        dict_ = json.loads(line)\n",
    "        purchase.update({dict_['user_id']:dict_['category']})"
   ]
  },
  {
   "cell_type": "markdown",
   "metadata": {},
   "source": [
    "# 2. Для каждого user_id в файле visit_log.csv определите третий столбец с категорией покупки (если покупка была, сам файл visit_log.csv изменять не надо). Запишите в файл funnel.csv визиты из файла visit_log.csv, в которых были покупки с указанием категории. Учтите условия на данные: содержимое purchase_log.txt помещается в оперативную память компьютера содержимое visit_log.csv - нет; используйте только построчную обработку этого файла"
   ]
  },
  {
   "cell_type": "code",
   "execution_count": 10,
   "metadata": {},
   "outputs": [],
   "source": [
    "with open('E:\\\\DS-22\\\\PYDA-15\\\\HW5Python\\\\visit_log.csv', 'r', encoding='utf-8') as f:\n",
    "    f.readline()\n",
    "    with open('E:\\\\DS-22\\\\PYDA-15\\\\HW5Python\\\\funnel.csv', 'w') as f2write:\n",
    "        for line in f:\n",
    "            line = line.strip('\\n').split(',')\n",
    "            user, source = line\n",
    "            if line[0] in purchase:\n",
    "                category = [line[1]]      \n",
    "                f2write.write(f'{line},{category}\\n')\n",
    "            else:\n",
    "                pass  "
   ]
  }
 ],
 "metadata": {
  "kernelspec": {
   "display_name": "Python 3",
   "language": "python",
   "name": "python3"
  },
  "language_info": {
   "codemirror_mode": {
    "name": "ipython",
    "version": 3
   },
   "file_extension": ".py",
   "mimetype": "text/x-python",
   "name": "python",
   "nbconvert_exporter": "python",
   "pygments_lexer": "ipython3",
   "version": "3.8.3"
  }
 },
 "nbformat": 4,
 "nbformat_minor": 4
}
