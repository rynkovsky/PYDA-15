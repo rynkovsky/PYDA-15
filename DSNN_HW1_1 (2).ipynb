{
 "cells": [
  {
   "cell_type": "code",
   "execution_count": null,
   "id": "bc67d89f",
   "metadata": {},
   "outputs": [],
   "source": [
    "import tensorflow as tf\n",
    "from tqdm import tqdm_notebook"
   ]
  },
  {
   "cell_type": "code",
   "execution_count": null,
   "id": "facf3d6b",
   "metadata": {},
   "outputs": [],
   "source": [
    "import numpy as np\n",
    "from keras.datasets import cifar10\n",
    "from sklearn.model_selection import train_test_split\n",
    "(X_train, y_train), (X_test, y_test) = cifar10.load_data()\n",
    "X_train, X_val, y_train, y_val = train_test_split(X_train, y_train, test_size=10**4, random_state=42)\n",
    "\n",
    "class_names = np.array(['airplane','automobile ','bird ','cat ','deer ','dog ','frog ','horse ','ship ','truck'])\n",
    "\n",
    "print (X_train.shape,y_train.shape)"
   ]
  },
  {
   "cell_type": "code",
   "execution_count": null,
   "id": "b68d227f",
   "metadata": {},
   "outputs": [],
   "source": [
    "import matplotlib.pyplot as plt\n",
    "%matplotlib inline\n",
    "\n",
    "plt.figure(figsize=[12,10])\n",
    "for i in range(12):\n",
    "    plt.subplot(3, 4, i + 1)\n",
    "    plt.xlabel(class_names[y_train[i, 0]])\n",
    "    plt.imshow(X_train[i])"
   ]
  },
  {
   "cell_type": "code",
   "execution_count": null,
   "id": "ecfabf3c",
   "metadata": {},
   "outputs": [],
   "source": [
    "X_train = X_train / 255\n",
    "X_val = X_val / 255\n",
    "X_test = X_test / 255"
   ]
  },
  {
   "cell_type": "code",
   "execution_count": null,
   "id": "6839ca0c",
   "metadata": {},
   "outputs": [],
   "source": [
    "assert np.shape(X_train) == (40000, 32, 32, 3), \"data shape should not change\"\n",
    "assert 0.9 <= max(map(np.max, (X_train, X_val, X_test))) <= 1.05\n",
    "assert 0.0 <= min(map(np.min, (X_train, X_val, X_test))) <= 0.1\n",
    "assert len(np.unique(X_test / 255.)) > 10, \"make sure you casted data to float type\""
   ]
  },
  {
   "cell_type": "code",
   "execution_count": null,
   "id": "09e186f5",
   "metadata": {},
   "outputs": [],
   "source": [
    "import keras\n",
    "from keras import layers as L\n",
    "from keras import backend as K"
   ]
  },
  {
   "cell_type": "code",
   "execution_count": null,
   "id": "c160187e",
   "metadata": {},
   "outputs": [],
   "source": [
    "model = keras.models.Sequential([\n",
    "    keras.Input(shape=(32, 32, 3)),\n",
    "    keras.layers.Flatten(),\n",
    "    #первый полносвязный слой\n",
    "    keras.layers.Dense(32, activation=\"tanh\"),\n",
    "    #второй полносвяный слой\n",
    "    keras.layers.Dense(32, activation=\"relu\"),\n",
    "    keras.layers.Dense(10, activation=\"softmax\"),]\n",
    ")\n",
    "model.compile(optimizer='adam',\n",
    "              loss='categorical_crossentropy',\n",
    "              metrics=['accuracy'])\n",
    "y_train_labels = tf.keras.utils.to_categorical(y_train)\n",
    "model.fit(X_train, \n",
    "          y_train_labels,\n",
    "          batch_size=32, \n",
    "          epochs=5,\n",
    "          validation_split=0.2)"
   ]
  },
  {
   "cell_type": "code",
   "execution_count": null,
   "id": "c0072112",
   "metadata": {},
   "outputs": [],
   "source": [
    "dummy_pred = model.predict(X_train[:20])\n",
    "assert dummy_pred.shape == (20, 10)\n",
    "assert np.allclose(dummy_pred.sum(-1), 1)\n",
    "print(\"Успех!\")"
   ]
  },
  {
   "cell_type": "markdown",
   "id": "69b63fbe",
   "metadata": {},
   "source": [
    "\n",
    "# Обучение сети\n",
    "Задание 1.1 (обязательно) Будем минимизировать многоклассовую кроссэкнропию с помощью sgd. Вам нужно получить сеть, которая достигнет не менее 45% accuracy на тестовых данных."
   ]
  },
  {
   "cell_type": "code",
   "execution_count": null,
   "id": "9d4694cc",
   "metadata": {},
   "outputs": [],
   "source": [
    "from tensorflow.python.keras.callbacks import TensorBoard\n",
    "from time import time"
   ]
  },
  {
   "cell_type": "code",
   "execution_count": null,
   "id": "f8ffac9a",
   "metadata": {},
   "outputs": [],
   "source": [
    "model = keras.models.Sequential([\n",
    "    keras.Input(shape=(32, 32, 3)),\n",
    "    keras.layers.Flatten(),\n",
    "    keras.layers.Dense(256, activation=\"relu\"),\n",
    "    keras.layers.Dense(10, activation=\"softmax\"),]\n",
    ")\n",
    "model.compile(optimizer='SGD',\n",
    "              loss='categorical_crossentropy',\n",
    "              metrics=['accuracy'])\n",
    "tensorboard = TensorBoard(log_dir = \"logs/{}\".format(time()))\n",
    "tensorboard_cbk = keras.callbacks.TensorBoard(log_dir='sample/', histogram_freq=1, write_graph=True, write_images=True)\n",
    "model.fit(X_train, \n",
    "          y_train_labels,\n",
    "          batch_size=32 , \n",
    "          epochs=30,\n",
    "          callbacks=[tensorboard_cbk],\n",
    "          validation_split=0.2) \n",
    "from sklearn.metrics import accuracy_score\n",
    "print (\"test accuracy: \", accuracy_score(y_test, np.argmax(model.predict(X_test),axis=1)))"
   ]
  },
  {
   "cell_type": "code",
   "execution_count": null,
   "id": "b0597736",
   "metadata": {},
   "outputs": [],
   "source": [
    "keras.callbacks.History\n"
   ]
  },
  {
   "cell_type": "code",
   "execution_count": null,
   "id": "62e9ff77",
   "metadata": {},
   "outputs": [],
   "source": [
    "from sklearn.metrics import accuracy_score\n",
    "test_acc = accuracy_score(y_test, np.argmax(model.predict(X_test),axis=1))\n",
    "print(\"\\n Test_acc =\", test_acc)\n",
    "assert test_acc > 0.45, \"Not good enough. Back to the drawing board :)\"\n",
    "print(\" Not bad!\")"
   ]
  },
  {
   "cell_type": "markdown",
   "id": "f57fc633",
   "metadata": {},
   "source": [
    "# Карманная сверточная сеть\n",
    "Задание 1.2 (обязательно) Реализуйте небольшую свёрточную сеть. Совсем небольшую:"
   ]
  },
  {
   "cell_type": "code",
   "execution_count": null,
   "id": "a89300b7",
   "metadata": {},
   "outputs": [],
   "source": [
    "model = keras.models.Sequential([\n",
    "    keras.Input(shape=(32, 32, 3)),\n",
    "    keras.layers.Conv2D(filters=10,\n",
    "                           kernel_size=(3, 3),\n",
    "                           padding='same',\n",
    "                           activation='relu',\n",
    "                           input_shape=X_train.shape[1:]),\n",
    "    keras.layers.MaxPool2D(pool_size=(2, 2), padding='valid'),\n",
    "    keras.layers.Flatten(),\n",
    "    keras.layers.Dense(100, activation=\"relu\"),\n",
    "    keras.layers.Dense(10, activation=\"softmax\"),]\n",
    ")\n",
    "model.compile(optimizer='adam',\n",
    "              loss='categorical_crossentropy',\n",
    "              metrics=['accuracy'])\n",
    "y_train_labels = tf.keras.utils.to_categorical(y_train)\n",
    "model.fit(X_train, \n",
    "          y_train_labels,\n",
    "          batch_size=32, \n",
    "          epochs=20,\n",
    "          validation_split=0.2) \n",
    "print('Test Accuracy: ', accuracy_score(y_test, np.argmax(model.predict(X_test),axis=1)))"
   ]
  },
  {
   "cell_type": "code",
   "execution_count": null,
   "id": "0403dd88",
   "metadata": {},
   "outputs": [],
   "source": [
    "from sklearn.metrics import accuracy_score\n",
    "test_acc = accuracy_score(y_test, np.argmax(model.predict(X_test),axis=1))\n",
    "print(\"\\n Test_acc =\", test_acc)\n",
    "assert test_acc > 0.50, \"Not good enough. Back to the drawing board :)\"\n",
    "print(\" Not bad!\")"
   ]
  },
  {
   "cell_type": "code",
   "execution_count": null,
   "id": "3400ef81",
   "metadata": {},
   "outputs": [],
   "source": []
  }
 ],
 "metadata": {
  "kernelspec": {
   "display_name": "Python 3",
   "language": "python",
   "name": "python3"
  },
  "language_info": {
   "codemirror_mode": {
    "name": "ipython",
    "version": 3
   },
   "file_extension": ".py",
   "mimetype": "text/x-python",
   "name": "python",
   "nbconvert_exporter": "python",
   "pygments_lexer": "ipython3",
   "version": "3.8.8"
  }
 },
 "nbformat": 4,
 "nbformat_minor": 5
}
